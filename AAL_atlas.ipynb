{
  "nbformat": 4,
  "nbformat_minor": 0,
  "metadata": {
    "colab": {
      "provenance": []
    },
    "kernelspec": {
      "name": "python3",
      "display_name": "Python 3"
    },
    "language_info": {
      "name": "python"
    }
  },
  "cells": [
    {
      "cell_type": "code",
      "source": [
        "from google.colab import drive\n",
        "drive.mount('/content/drive')"
      ],
      "metadata": {
        "colab": {
          "base_uri": "https://localhost:8080/"
        },
        "id": "xbEkx7Mq5hAL",
        "outputId": "55fe41de-540f-4abe-ae56-133f28c0c11f"
      },
      "execution_count": null,
      "outputs": [
        {
          "output_type": "stream",
          "name": "stdout",
          "text": [
            "Mounted at /content/drive\n"
          ]
        }
      ]
    },
    {
      "cell_type": "code",
      "source": [
        "!pip install antspyx"
      ],
      "metadata": {
        "colab": {
          "base_uri": "https://localhost:8080/"
        },
        "id": "P0zlkf9X5_FP",
        "outputId": "766178e5-18cf-4189-8548-f432e710a3d2"
      },
      "execution_count": null,
      "outputs": [
        {
          "output_type": "stream",
          "name": "stdout",
          "text": [
            "Collecting antspyx\n",
            "  Downloading antspyx-0.5.3-cp310-cp310-manylinux_2_17_x86_64.manylinux2014_x86_64.whl.metadata (6.2 kB)\n",
            "Requirement already satisfied: pandas in /usr/local/lib/python3.10/dist-packages (from antspyx) (2.1.4)\n",
            "Requirement already satisfied: pyyaml in /usr/local/lib/python3.10/dist-packages (from antspyx) (6.0.2)\n",
            "Requirement already satisfied: numpy in /usr/local/lib/python3.10/dist-packages (from antspyx) (1.26.4)\n",
            "Requirement already satisfied: statsmodels in /usr/local/lib/python3.10/dist-packages (from antspyx) (0.14.3)\n",
            "Requirement already satisfied: webcolors in /usr/local/lib/python3.10/dist-packages (from antspyx) (24.8.0)\n",
            "Requirement already satisfied: matplotlib in /usr/local/lib/python3.10/dist-packages (from antspyx) (3.7.1)\n",
            "Requirement already satisfied: Pillow in /usr/local/lib/python3.10/dist-packages (from antspyx) (10.4.0)\n",
            "Requirement already satisfied: requests in /usr/local/lib/python3.10/dist-packages (from antspyx) (2.32.3)\n",
            "Requirement already satisfied: contourpy>=1.0.1 in /usr/local/lib/python3.10/dist-packages (from matplotlib->antspyx) (1.3.0)\n",
            "Requirement already satisfied: cycler>=0.10 in /usr/local/lib/python3.10/dist-packages (from matplotlib->antspyx) (0.12.1)\n",
            "Requirement already satisfied: fonttools>=4.22.0 in /usr/local/lib/python3.10/dist-packages (from matplotlib->antspyx) (4.53.1)\n",
            "Requirement already satisfied: kiwisolver>=1.0.1 in /usr/local/lib/python3.10/dist-packages (from matplotlib->antspyx) (1.4.7)\n",
            "Requirement already satisfied: packaging>=20.0 in /usr/local/lib/python3.10/dist-packages (from matplotlib->antspyx) (24.1)\n",
            "Requirement already satisfied: pyparsing>=2.3.1 in /usr/local/lib/python3.10/dist-packages (from matplotlib->antspyx) (3.1.4)\n",
            "Requirement already satisfied: python-dateutil>=2.7 in /usr/local/lib/python3.10/dist-packages (from matplotlib->antspyx) (2.8.2)\n",
            "Requirement already satisfied: pytz>=2020.1 in /usr/local/lib/python3.10/dist-packages (from pandas->antspyx) (2024.2)\n",
            "Requirement already satisfied: tzdata>=2022.1 in /usr/local/lib/python3.10/dist-packages (from pandas->antspyx) (2024.1)\n",
            "Requirement already satisfied: charset-normalizer<4,>=2 in /usr/local/lib/python3.10/dist-packages (from requests->antspyx) (3.3.2)\n",
            "Requirement already satisfied: idna<4,>=2.5 in /usr/local/lib/python3.10/dist-packages (from requests->antspyx) (3.10)\n",
            "Requirement already satisfied: urllib3<3,>=1.21.1 in /usr/local/lib/python3.10/dist-packages (from requests->antspyx) (2.2.3)\n",
            "Requirement already satisfied: certifi>=2017.4.17 in /usr/local/lib/python3.10/dist-packages (from requests->antspyx) (2024.8.30)\n",
            "Requirement already satisfied: scipy!=1.9.2,>=1.8 in /usr/local/lib/python3.10/dist-packages (from statsmodels->antspyx) (1.13.1)\n",
            "Requirement already satisfied: patsy>=0.5.6 in /usr/local/lib/python3.10/dist-packages (from statsmodels->antspyx) (0.5.6)\n",
            "Requirement already satisfied: six in /usr/local/lib/python3.10/dist-packages (from patsy>=0.5.6->statsmodels->antspyx) (1.16.0)\n",
            "Downloading antspyx-0.5.3-cp310-cp310-manylinux_2_17_x86_64.manylinux2014_x86_64.whl (18.8 MB)\n",
            "\u001b[2K   \u001b[90m━━━━━━━━━━━━━━━━━━━━━━━━━━━━━━━━━━━━━━━━\u001b[0m \u001b[32m18.8/18.8 MB\u001b[0m \u001b[31m62.4 MB/s\u001b[0m eta \u001b[36m0:00:00\u001b[0m\n",
            "\u001b[?25hInstalling collected packages: antspyx\n",
            "Successfully installed antspyx-0.5.3\n"
          ]
        }
      ]
    },
    {
      "cell_type": "markdown",
      "source": [
        "### To get the nii.gz/transform file one can go to https://github.com/neurodata/neuroparc/tree/master/atlases/transforms"
      ],
      "metadata": {
        "id": "vFfoLjXJX70X"
      }
    },
    {
      "cell_type": "code",
      "execution_count": null,
      "metadata": {
        "id": "iaLpuhun4zY3"
      },
      "outputs": [],
      "source": [
        "import ants\n",
        "\n",
        "\n",
        "# read / write images\n",
        "img = ants.image_read('/content/AAL_space-MNI152NLin6_res-2x2x2.nii.gz')\n",
        "# transform_path = '/content/MNI152NLin6_2_MNI152NLin2009cAsym.h5'\n",
        "# transform = ants.read_transform(transform_path)\n",
        "# transform1 = ants.read_transform(\"/content/MNI152NLin2009cAsym_2_MNI152NLin6.h5\")\n",
        "target_template = ants.image_read('/content/drive/MyDrive/fmri_all_sub01/sub-001/anat/sub-001_space-MNI152NLin2009cAsym_res-2_dseg.nii.gz')\n",
        "transformed_image = ants.apply_transforms(fixed=target_template,\n",
        "                                          moving=img,\n",
        "                                          transformlist=[\"/content/MNI152NLin2009cAsym_2_MNI152NLin6.h5\"])"
      ]
    },
    {
      "cell_type": "code",
      "source": [
        "# prompt: get 3 dimensional array where img_data==31, save in to a file called L_superior_temporal_gyrus_31\n",
        "\n",
        "import numpy as np\n",
        "\n",
        "# Assuming 'img_data' is your ANTs image data\n",
        "L_Heschl_gyrus_AAL_83= np.where(transformed_image.numpy() == 83)\n",
        "\n",
        "# Save the array to a file\n",
        "np.save('L_Heschl_gyrus_AAL_83.npy',L_Heschl_gyrus_AAL_83)\n",
        "\n"
      ],
      "metadata": {
        "id": "ijNBC-aEMAk8"
      },
      "execution_count": null,
      "outputs": []
    },
    {
      "cell_type": "code",
      "source": [
        "len(L_Heschl_gyrus_AAL_83[1])"
      ],
      "metadata": {
        "colab": {
          "base_uri": "https://localhost:8080/"
        },
        "id": "6VydZMKu_O5k",
        "outputId": "3c575935-2cd5-4ef5-aba7-f422a5bcb7e8"
      },
      "execution_count": null,
      "outputs": [
        {
          "output_type": "execute_result",
          "data": {
            "text/plain": [
              "594"
            ]
          },
          "metadata": {},
          "execution_count": 24
        }
      ]
    },
    {
      "cell_type": "code",
      "source": [
        "# prompt: get 3 dimensional array where img_data==31, save in to a file called L_superior_temporal_gyrus_31\n",
        "\n",
        "import numpy as np\n",
        "\n",
        "# Assuming 'img_data' is your ANTs image data\n",
        "R_Heschl_gyrus_AAL_84= np.where(transformed_image.numpy() == 84)\n",
        "\n",
        "# Save the array to a file\n",
        "np.save('R_Heschl_gyrus_AAL_84.npy',R_Heschl_gyrus_AAL_84)\n",
        "\n"
      ],
      "metadata": {
        "id": "gLKLv5FB_DQC"
      },
      "execution_count": null,
      "outputs": []
    },
    {
      "cell_type": "code",
      "source": [
        "len(R_Heschl_gyrus_AAL_84[1])"
      ],
      "metadata": {
        "colab": {
          "base_uri": "https://localhost:8080/"
        },
        "id": "Z4p-tDeN_i8R",
        "outputId": "16989868-1da5-4fbb-8247-8d052af439c1"
      },
      "execution_count": null,
      "outputs": [
        {
          "output_type": "execute_result",
          "data": {
            "text/plain": [
              "611"
            ]
          },
          "metadata": {},
          "execution_count": 26
        }
      ]
    },
    {
      "cell_type": "code",
      "source": [
        "import numpy as np\n",
        "np.where(transformed_image.numpy() == 83)"
      ],
      "metadata": {
        "colab": {
          "base_uri": "https://localhost:8080/"
        },
        "id": "Ni_c9hWuSWNh",
        "outputId": "b347bf61-484b-4713-b06e-ad638d93b598"
      },
      "execution_count": null,
      "outputs": [
        {
          "output_type": "execute_result",
          "data": {
            "text/plain": [
              "(array([18, 19, 19, 19, 19, 19, 19, 19, 19, 19, 19, 19, 19, 20, 20, 20, 20,\n",
              "        20, 20, 20, 20, 20, 20, 20, 20, 20, 20, 20, 20, 20, 20, 20, 20, 20,\n",
              "        20, 20, 20, 20, 21, 21, 21, 21, 21, 21, 21, 21, 21, 21, 21, 21, 21,\n",
              "        21, 21, 21, 21, 21, 21, 21, 21, 21, 21, 21, 21, 21, 21, 21, 21, 21,\n",
              "        21, 21, 21, 21, 21, 21, 22, 22, 22, 22, 22, 22, 22, 22, 22, 22, 22,\n",
              "        22, 22, 22, 22, 22, 22, 22, 22, 22, 22, 22, 22, 22, 22, 22, 22, 22,\n",
              "        22, 22, 22, 22, 22, 22, 22, 22, 22, 22, 22, 22, 22, 22, 22, 22, 22,\n",
              "        22, 23, 23, 23, 23, 23, 23, 23, 23, 23, 23, 23, 23, 23, 23, 23, 23,\n",
              "        23, 23, 23, 23, 23, 23, 23, 23, 23, 23, 23, 23, 23, 23, 23, 23, 23,\n",
              "        23, 23, 23, 23, 23, 23, 23, 23, 23, 23, 23, 23, 23, 24, 24, 24, 24,\n",
              "        24, 24, 24, 24, 24, 24, 24, 24, 24, 24, 24, 24, 24, 24, 24, 24, 24,\n",
              "        24, 24, 24, 24, 24, 24, 24, 24, 24, 24, 24, 24, 24, 24, 24, 24, 24,\n",
              "        25, 25, 25, 25, 25, 25, 25, 25, 25, 25, 25, 25, 25, 25, 25, 25, 25,\n",
              "        25, 25, 25, 25, 25, 25, 25, 25, 25, 25, 25, 25, 25, 25, 25, 25, 25,\n",
              "        25, 26, 26, 26, 26, 26, 26, 26, 26, 26, 26, 26, 26, 26, 26, 26, 26,\n",
              "        26, 26, 26, 26, 26, 26, 26, 26, 26, 26, 26, 26, 26, 26, 26, 26, 26,\n",
              "        26, 26, 26, 26, 26, 26, 27, 27, 27, 27, 27, 27, 27, 27, 27, 27, 27,\n",
              "        27, 27, 27, 27, 27, 27, 27, 27, 27, 27, 27, 27, 27, 27, 27, 27, 27,\n",
              "        27, 27, 27, 27, 27, 27, 27, 27, 27, 27, 27, 27, 27, 27, 27, 28, 28,\n",
              "        28, 28, 28, 28, 28, 28, 28, 28, 28, 28, 28, 28, 28, 28, 28, 28, 28,\n",
              "        28, 28, 28, 28, 28, 28, 28, 28, 28, 28, 28, 28, 28, 28, 28, 28, 29,\n",
              "        29, 29, 29, 29, 29, 29, 29, 29, 29, 29, 29, 29, 29, 29, 29, 29, 29,\n",
              "        29, 29, 29, 29, 29, 29, 29, 29, 29, 29, 29, 29, 29, 29, 29, 29, 29,\n",
              "        29, 30, 30, 30, 30, 30, 30, 30, 30, 30, 30, 30, 30, 30, 30, 30, 30,\n",
              "        30, 30, 30, 30, 30, 30, 30, 30, 30, 30, 30, 30, 30, 30, 30, 30, 30,\n",
              "        30, 31, 31, 31, 31, 31, 31, 31, 31, 31, 31, 31, 31, 31, 31, 31, 31,\n",
              "        31, 31, 31, 31, 31, 31, 31, 31, 31, 31, 31, 31, 31, 31, 31, 32, 32,\n",
              "        32, 32, 32, 32, 32, 32, 32, 32, 32, 32, 32, 32, 32, 32, 32, 32, 32,\n",
              "        32, 32, 32, 32, 32, 32, 32, 33, 33, 33, 33, 33, 33, 33, 33, 33, 33,\n",
              "        33, 33, 33, 33, 33, 33, 33, 33, 33, 33, 33, 33, 33, 33, 33, 33, 33,\n",
              "        33, 34, 34, 34, 34, 34, 34, 34, 34, 34, 34, 34, 34, 34, 34, 34, 34,\n",
              "        34, 34, 34, 34, 34, 34, 34, 34, 35, 35, 35, 35, 35, 35, 35, 35, 35,\n",
              "        35, 35, 35, 35, 35, 35, 35, 35, 35, 35, 35, 35, 35, 35, 35, 36, 36,\n",
              "        36, 36, 36, 36, 36, 36, 36, 36, 36, 36, 36, 36, 36, 36, 36, 36, 36,\n",
              "        37, 37, 37, 37, 37, 37, 37, 37, 37, 37, 37, 37, 37, 38, 38, 38]),\n",
              " array([70, 70, 70, 70, 70, 71, 71, 71, 71, 71, 72, 72, 72, 70, 70, 70, 70,\n",
              "        70, 70, 71, 71, 71, 71, 71, 71, 71, 72, 72, 72, 72, 72, 72, 73, 73,\n",
              "        73, 73, 73, 74, 70, 70, 70, 70, 71, 71, 71, 71, 71, 71, 71, 72, 72,\n",
              "        72, 72, 72, 72, 72, 73, 73, 73, 73, 73, 74, 74, 74, 74, 74, 75, 75,\n",
              "        75, 75, 76, 76, 76, 76, 70, 70, 70, 70, 70, 71, 71, 71, 71, 71, 71,\n",
              "        71, 72, 72, 72, 72, 72, 72, 72, 72, 72, 73, 73, 73, 73, 73, 73, 73,\n",
              "        73, 74, 74, 74, 74, 74, 75, 75, 75, 75, 75, 75, 76, 76, 76, 76, 76,\n",
              "        77, 70, 70, 70, 70, 70, 71, 71, 71, 71, 71, 71, 71, 71, 71, 72, 72,\n",
              "        72, 72, 72, 72, 72, 73, 73, 73, 73, 73, 73, 74, 74, 74, 74, 74, 74,\n",
              "        75, 75, 75, 75, 75, 76, 76, 76, 76, 76, 77, 77, 77, 70, 70, 70, 70,\n",
              "        70, 71, 71, 71, 71, 71, 71, 71, 72, 72, 72, 72, 72, 72, 72, 73, 73,\n",
              "        73, 73, 74, 74, 74, 74, 75, 75, 75, 75, 76, 76, 76, 76, 77, 77, 77,\n",
              "        69, 69, 70, 70, 70, 70, 70, 71, 71, 71, 71, 71, 71, 72, 72, 72, 72,\n",
              "        72, 73, 73, 73, 73, 74, 74, 74, 75, 75, 75, 76, 76, 76, 76, 77, 77,\n",
              "        77, 68, 68, 69, 69, 69, 70, 70, 70, 70, 71, 71, 71, 71, 71, 72, 72,\n",
              "        72, 72, 72, 73, 73, 73, 74, 74, 74, 75, 75, 75, 75, 76, 76, 76, 76,\n",
              "        77, 77, 77, 77, 78, 78, 67, 68, 68, 68, 69, 69, 69, 70, 70, 70, 70,\n",
              "        70, 71, 71, 71, 72, 72, 72, 73, 73, 73, 73, 74, 74, 74, 74, 75, 75,\n",
              "        75, 75, 76, 76, 76, 76, 77, 77, 77, 77, 78, 78, 78, 78, 78, 69, 70,\n",
              "        70, 70, 71, 71, 71, 72, 72, 72, 73, 73, 73, 74, 74, 74, 74, 75, 75,\n",
              "        75, 75, 75, 76, 76, 76, 76, 76, 77, 77, 77, 77, 78, 78, 78, 78, 69,\n",
              "        70, 70, 70, 71, 71, 71, 72, 72, 72, 72, 73, 73, 73, 73, 74, 74, 74,\n",
              "        74, 75, 75, 75, 76, 76, 76, 76, 77, 77, 77, 77, 77, 78, 78, 78, 78,\n",
              "        79, 69, 70, 70, 71, 71, 71, 71, 71, 72, 72, 72, 72, 72, 73, 73, 73,\n",
              "        73, 74, 74, 74, 75, 75, 76, 76, 76, 77, 77, 77, 77, 78, 78, 78, 79,\n",
              "        80, 69, 70, 70, 71, 71, 71, 71, 71, 72, 72, 72, 72, 73, 73, 73, 74,\n",
              "        75, 75, 76, 76, 77, 77, 77, 78, 78, 78, 79, 79, 79, 80, 80, 69, 70,\n",
              "        70, 70, 71, 71, 71, 71, 72, 72, 73, 74, 74, 75, 75, 76, 76, 77, 77,\n",
              "        78, 78, 78, 79, 79, 80, 80, 69, 70, 70, 70, 71, 71, 71, 71, 72, 72,\n",
              "        72, 73, 73, 74, 74, 74, 75, 75, 75, 76, 76, 77, 77, 78, 78, 79, 79,\n",
              "        80, 69, 69, 70, 70, 70, 70, 71, 71, 71, 72, 72, 73, 73, 74, 74, 75,\n",
              "        75, 76, 76, 77, 77, 78, 78, 78, 69, 69, 70, 70, 71, 71, 72, 72, 73,\n",
              "        73, 74, 74, 74, 75, 75, 75, 76, 76, 76, 77, 77, 77, 78, 79, 69, 70,\n",
              "        71, 71, 71, 72, 72, 72, 73, 73, 73, 74, 74, 74, 75, 75, 75, 76, 76,\n",
              "        69, 71, 71, 71, 72, 72, 72, 73, 73, 73, 74, 74, 75, 71, 71, 72]),\n",
              " array([37, 34, 35, 36, 37, 33, 34, 35, 36, 37, 33, 34, 35, 32, 33, 34, 35,\n",
              "        36, 37, 31, 32, 33, 34, 35, 36, 37, 31, 32, 33, 34, 35, 36, 31, 32,\n",
              "        33, 34, 35, 31, 32, 33, 34, 38, 31, 32, 33, 34, 35, 36, 37, 31, 32,\n",
              "        33, 34, 35, 36, 37, 31, 32, 33, 34, 35, 29, 30, 31, 32, 33, 29, 30,\n",
              "        31, 32, 29, 30, 31, 32, 31, 32, 33, 34, 38, 31, 32, 33, 34, 35, 36,\n",
              "        37, 29, 30, 31, 32, 33, 34, 35, 36, 37, 29, 30, 31, 32, 33, 34, 35,\n",
              "        36, 29, 30, 31, 32, 33, 28, 29, 30, 31, 32, 33, 28, 29, 30, 31, 32,\n",
              "        30, 30, 31, 32, 33, 34, 29, 30, 31, 32, 33, 34, 35, 36, 37, 29, 30,\n",
              "        31, 32, 33, 36, 37, 28, 29, 30, 31, 32, 33, 28, 29, 30, 31, 32, 33,\n",
              "        28, 29, 30, 31, 32, 28, 29, 30, 31, 32, 27, 28, 29, 28, 29, 30, 31,\n",
              "        32, 28, 29, 30, 31, 32, 36, 37, 28, 29, 30, 31, 32, 36, 37, 28, 29,\n",
              "        30, 31, 28, 29, 30, 31, 28, 29, 30, 31, 28, 29, 30, 31, 27, 28, 30,\n",
              "        29, 30, 28, 29, 30, 31, 32, 27, 28, 29, 30, 31, 32, 28, 29, 30, 31,\n",
              "        32, 28, 29, 30, 31, 28, 29, 30, 28, 29, 30, 27, 28, 29, 30, 28, 29,\n",
              "        30, 29, 30, 28, 29, 30, 28, 29, 30, 31, 27, 28, 29, 30, 31, 27, 28,\n",
              "        29, 30, 31, 27, 28, 29, 28, 29, 30, 27, 28, 29, 30, 27, 28, 29, 30,\n",
              "        26, 27, 28, 29, 27, 28, 29, 28, 29, 30, 28, 29, 30, 26, 27, 28, 29,\n",
              "        30, 27, 28, 29, 27, 28, 29, 26, 27, 28, 29, 26, 27, 28, 29, 27, 28,\n",
              "        29, 30, 26, 27, 28, 29, 25, 26, 27, 28, 24, 25, 26, 27, 28, 28, 26,\n",
              "        27, 28, 26, 27, 28, 26, 27, 28, 26, 27, 28, 25, 26, 27, 28, 25, 26,\n",
              "        27, 28, 29, 24, 25, 26, 27, 28, 24, 25, 26, 27, 24, 25, 26, 27, 28,\n",
              "        26, 27, 28, 26, 27, 28, 25, 26, 27, 28, 25, 26, 27, 28, 25, 26, 27,\n",
              "        28, 25, 26, 27, 24, 25, 26, 27, 23, 24, 25, 26, 27, 23, 24, 25, 26,\n",
              "        25, 28, 27, 28, 24, 25, 26, 27, 28, 24, 25, 26, 27, 28, 25, 26, 27,\n",
              "        28, 25, 26, 27, 25, 26, 24, 25, 26, 23, 24, 25, 26, 23, 24, 25, 25,\n",
              "        25, 28, 27, 28, 24, 25, 26, 27, 28, 24, 25, 26, 27, 25, 26, 27, 25,\n",
              "        24, 25, 24, 25, 23, 24, 25, 23, 24, 25, 23, 24, 25, 23, 24, 28, 25,\n",
              "        26, 27, 24, 25, 26, 27, 24, 25, 25, 24, 25, 24, 25, 24, 25, 23, 24,\n",
              "        23, 24, 25, 23, 24, 23, 24, 28, 25, 26, 27, 24, 25, 26, 27, 23, 24,\n",
              "        25, 23, 24, 23, 24, 25, 23, 24, 25, 23, 24, 23, 24, 23, 24, 23, 24,\n",
              "        23, 27, 28, 25, 26, 27, 28, 23, 24, 25, 23, 24, 23, 24, 23, 24, 23,\n",
              "        24, 23, 24, 23, 24, 22, 23, 24, 27, 28, 24, 25, 23, 24, 23, 24, 23,\n",
              "        24, 22, 23, 24, 22, 23, 24, 22, 23, 24, 22, 23, 24, 23, 23, 28, 24,\n",
              "        22, 23, 24, 22, 23, 24, 22, 23, 24, 22, 23, 24, 22, 23, 24, 22, 23,\n",
              "        28, 22, 23, 24, 22, 23, 24, 22, 23, 24, 22, 23, 23, 22, 23, 22]))"
            ]
          },
          "metadata": {},
          "execution_count": 13
        }
      ]
    },
    {
      "cell_type": "code",
      "source": [
        "import numpy as np\n",
        "for i in range(3):\n",
        "  print(\"Minimum value:\", np.min(R_Heschl_gyrus_AAL_84[i]))\n",
        "  print(\"Maximum value:\", np.max(R_Heschl_gyrus_AAL_84[i]))\n"
      ],
      "metadata": {
        "colab": {
          "base_uri": "https://localhost:8080/"
        },
        "id": "xBtD00-__vN3",
        "outputId": "18063011-4616-4411-a205-fc37a58d4ea3"
      },
      "execution_count": null,
      "outputs": [
        {
          "output_type": "stream",
          "name": "stdout",
          "text": [
            "Minimum value: 60\n",
            "Maximum value: 82\n",
            "Minimum value: 67\n",
            "Maximum value: 78\n",
            "Minimum value: 23\n",
            "Maximum value: 39\n"
          ]
        }
      ]
    },
    {
      "cell_type": "code",
      "source": [
        "# prompt: mask and plot the region where transformer image is 83\n",
        "\n",
        "import matplotlib.pyplot as plt\n",
        "transformed_image_np = transformed_image.numpy()\n",
        "# Create a mask where the transformed image has a value of 83\n",
        "mask = transformed_image_np == 83\n",
        "mask += transformed_image_np == 84\n",
        "# Apply the mask to the transformed image\n",
        "masked_image = transformed_image_np * mask\n",
        "\n",
        "# Plot the masked image\n",
        "plt.imshow(masked_image[:, :, 27], cmap='gray')\n",
        "plt.title('Left and Right Heschl Gyrus (AAL) z = 27')\n",
        "plt.show()\n"
      ],
      "metadata": {
        "colab": {
          "base_uri": "https://localhost:8080/",
          "height": 452
        },
        "id": "aRSQMLOK6ERr",
        "outputId": "5eedeccf-e43f-4072-9902-6dc9169ff66e"
      },
      "execution_count": null,
      "outputs": [
        {
          "output_type": "display_data",
          "data": {
            "text/plain": [
              "<Figure size 640x480 with 1 Axes>"
            ],
            "image/png": "[encoded data removed]"
          },
          "metadata": {}
        }
      ]
    },
    {
      "cell_type": "code",
      "source": [
        "masked_image[:, :, 40]"
      ],
      "metadata": {
        "colab": {
          "base_uri": "https://localhost:8080/"
        },
        "id": "p68RFCjJ7iSH",
        "outputId": "4ee9319d-5da3-4f18-fd13-645be7bd005c"
      },
      "execution_count": null,
      "outputs": [
        {
          "output_type": "execute_result",
          "data": {
            "text/plain": [
              "ANTsImage\n",
              "\t Pixel Type : float (float32)\n",
              "\t Components : 1\n",
              "\t Dimensions : (97, 115)\n",
              "\t Spacing    : (2.0, 2.0)\n",
              "\t Origin     : (96.5, 132.5)\n",
              "\t Direction  : [1. 0. 0. 1.]"
            ]
          },
          "metadata": {},
          "execution_count": 8
        }
      ]
    },
    {
      "cell_type": "code",
      "source": [],
      "metadata": {
        "id": "I6YKwf_u8C6i"
      },
      "execution_count": null,
      "outputs": []
    }
  ]
}